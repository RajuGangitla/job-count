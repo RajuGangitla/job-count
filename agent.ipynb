{
 "cells": [
  {
   "cell_type": "code",
   "execution_count": 1,
   "metadata": {},
   "outputs": [],
   "source": [
    "from langchain_core.prompts import ChatPromptTemplate\n",
    "from langchain_ollama import ChatOllama"
   ]
  },
  {
   "cell_type": "code",
   "execution_count": 3,
   "metadata": {},
   "outputs": [],
   "source": [
    "llm = ChatOllama(\n",
    "        model=\"llama3.2:1b\",\n",
    "        temperature=0,\n",
    "    )"
   ]
  },
  {
   "cell_type": "code",
   "execution_count": 63,
   "metadata": {},
   "outputs": [],
   "source": [
    "prompt = ChatPromptTemplate([\n",
    "    (\"system\", \"\"\"select one most relevant category and return category only.\n",
    "\n",
    "email_content: your application was sent to Stealth Start-up\n",
    "category: application_submitted\n",
    "     \n",
    "email_content:{content} \n",
    "category:\n",
    "     \n",
    "\n",
    "### **Categories (Return Only One)**  \n",
    "- application_submitted  \n",
    "- application_rejected  \n",
    "- application_viewed\n",
    "- assignment_given  \n",
    "- interview_scheduled  \n",
    "- interview_rejected  \n",
    "- offer_letter_received  \n",
    "- offer_released  \n",
    "- not_job_related\n",
    "     \n",
    "\"\"\")\n",
    "])\n"
   ]
  },
  {
   "cell_type": "code",
   "execution_count": 31,
   "metadata": {},
   "outputs": [],
   "source": [
    "chain  = prompt | llm"
   ]
  },
  {
   "cell_type": "code",
   "execution_count": 91,
   "metadata": {},
   "outputs": [
    {
     "data": {
      "text/plain": [
       "'<|start_header_id|>assistant<|end_header_id|>\\n\\nBased on the email content, I select:\\n\\n### **application_submitted**'"
      ]
     },
     "execution_count": 91,
     "metadata": {},
     "output_type": "execute_result"
    }
   ],
   "source": [
    "result = chain.invoke({\n",
    "    \"content\":\"\"\"\n",
    "            Thank you for your interest in the Senior AI/Full-Stack Engineer - Founding Team position at Beaver Health in United States. \n",
    "            Unfortunately, we will not be moving forward with your application, but we appreciate your time and interest in Beaver Health.\n",
    "        Regards,\n",
    "        Beaver Health\n",
    "        \"\"\"\n",
    "})\n",
    "\n",
    "result.content"
   ]
  }
 ],
 "metadata": {
  "kernelspec": {
   "display_name": "base",
   "language": "python",
   "name": "python3"
  },
  "language_info": {
   "codemirror_mode": {
    "name": "ipython",
    "version": 3
   },
   "file_extension": ".py",
   "mimetype": "text/x-python",
   "name": "python",
   "nbconvert_exporter": "python",
   "pygments_lexer": "ipython3",
   "version": "3.12.7"
  }
 },
 "nbformat": 4,
 "nbformat_minor": 2
}
