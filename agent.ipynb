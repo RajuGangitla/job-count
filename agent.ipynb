{
 "cells": [
  {
   "cell_type": "code",
   "execution_count": 27,
   "metadata": {},
   "outputs": [],
   "source": [
    "from langchain_core.prompts import ChatPromptTemplate\n",
    "from langchain_ollama import ChatOllama\n",
    "from langchain.output_parsers.json import SimpleJsonOutputParser"
   ]
  },
  {
   "cell_type": "code",
   "execution_count": 28,
   "metadata": {},
   "outputs": [],
   "source": [
    "llm = ChatOllama(\n",
    "        model=\"phi3\",\n",
    "        temperature=0,\n",
    "    )"
   ]
  },
  {
   "cell_type": "code",
   "execution_count": 29,
   "metadata": {},
   "outputs": [],
   "source": [
    "# prompt = ChatPromptTemplate([\n",
    "#     (\"system\", \"\"\"select one most relevant category and return category only. lets think step by step\n",
    "\n",
    "# email_content: your application was sent to Stealth Start-up\n",
    "# category: application_submitted\n",
    "     \n",
    "# email_content:Unfortunately, we will not be moving forward with your application, but we appreciate your time and interest in Beaver Health.\n",
    "# category: application_rejected\n",
    "     \n",
    "# email_content:{content} \n",
    "# category:\n",
    "     \n",
    "\n",
    "# ### **Categories (Return Only One)**  \n",
    "# - application_rejected  \n",
    "# - application_submitted  \n",
    "# - application_viewed\n",
    "# - assignment_given  \n",
    "# - interview_scheduled  \n",
    "# - interview_rejected  \n",
    "# - offer_letter_received  \n",
    "# - offer_released  \n",
    "# - not_job_related\n",
    "     \n",
    "# \"\"\")\n",
    "# ])\n"
   ]
  },
  {
   "cell_type": "code",
   "execution_count": 30,
   "metadata": {},
   "outputs": [],
   "source": [
    "prompt = ChatPromptTemplate([\n",
    "    (\"system\", \"\"\"\n",
    "    Analyze the provided email content and return a JSON object with a `category` key that best matches the email. \n",
    "    \n",
    "    ### **Categories & Descriptions**  \n",
    "    - **`application_submitted`** → The candidate has successfully applied for a job.  \n",
    "      *Example: \"Thank you for your application to [Company Name]. We have received your resume and will review it soon.\"*  \n",
    "\n",
    "    - **`application_viewed`** → The employer has reviewed the application but has not responded yet.  \n",
    "      *Example: \"Your application for [Job Title] has been viewed by the hiring manager.\"*  \n",
    "\n",
    "    - **`application_rejected`** → The job application was rejected before any interview.  \n",
    "      *Example: \"We appreciate your interest, but we have decided to move forward with other candidates at this time.\"*  \n",
    "\n",
    "    - **`assignment_given`** → The candidate has been given a task or test.  \n",
    "      *Example: \"Please complete the attached coding challenge and submit it within the next 48 hours.\"*  \n",
    "\n",
    "    - **`interview_scheduled`** → The candidate has been invited for an interview.  \n",
    "      *Example: \"We would like to schedule an interview with you for the [Job Title] position on [Date].\"*  \n",
    "\n",
    "    - **`interview_rejected`** → The candidate was rejected after an interview.  \n",
    "      *Example: \"Thank you for interviewing with us. Unfortunately, we have decided to move forward with another candidate.\"*  \n",
    "\n",
    "    - **`offer_letter_received`** → The candidate has received a job offer.  \n",
    "      *Example: \"We are pleased to offer you the position of [Job Title] at [Company Name]. Please find the offer letter attached.\"*  \n",
    "\n",
    "    - **`offer_released`** → The offer has been finalized and the candidate is officially hired.  \n",
    "      *Example: \"Your employment contract has been signed, and we look forward to your joining date on [Date].\"*  \n",
    "\n",
    "    - **`not_job_related`** → The email does not belong to any of the above categories.  \n",
    "      *Example: Spam emails, newsletters, promotional messages, or personal emails.*  \n",
    "\n",
    "    ### **Instructions**  \n",
    "    - Return only a JSON object in this format: `{{\"category\": \"<selected_category>\"}}`  \n",
    "    - Do **not** add explanations or extra text.  \n",
    "    - Select the most relevant category based on the email content.  \n",
    "    \n",
    "    ### **Email Content:**  \n",
    "    {content}  \n",
    "    \"\"\")\n",
    "])\n"
   ]
  },
  {
   "cell_type": "code",
   "execution_count": 31,
   "metadata": {},
   "outputs": [],
   "source": [
    "json_parser = SimpleJsonOutputParser()"
   ]
  },
  {
   "cell_type": "code",
   "execution_count": 32,
   "metadata": {},
   "outputs": [],
   "source": [
    "chain  = prompt | llm | json_parser"
   ]
  },
  {
   "cell_type": "code",
   "execution_count": 42,
   "metadata": {},
   "outputs": [
    {
     "data": {
      "text/plain": [
       "{'category': 'not_job_related'}"
      ]
     },
     "execution_count": 42,
     "metadata": {},
     "output_type": "execute_result"
    }
   ],
   "source": [
    "result = chain.invoke({\n",
    "    \"content\":\"\"\"\n",
    "    Dear WazirX Users,\n",
    "\n",
    " \n",
    "\n",
    "We write to update you on OA 1284.\n",
    "\n",
    " \n",
    "\n",
    "Bitcipher Labs LLP and NextGenDev Solutions Pvt Ltd have filed an affidavit in OA 1284, which can be downloaded at this link\n",
    "\n",
    " \n",
    "\n",
    "Please do not hesitate to reach out to us at enquiries@wazirx.com if you have any queries regarding the application.\n",
    "\n",
    "Thank you for your continued patience and support.\n",
    "\n",
    "Best,\n",
    "\n",
    "Team WazirX\n",
    "\n",
    "             \"\"\"\n",
    "})\n",
    "\n",
    "result"
   ]
  }
 ],
 "metadata": {
  "kernelspec": {
   "display_name": "base",
   "language": "python",
   "name": "python3"
  },
  "language_info": {
   "codemirror_mode": {
    "name": "ipython",
    "version": 3
   },
   "file_extension": ".py",
   "mimetype": "text/x-python",
   "name": "python",
   "nbconvert_exporter": "python",
   "pygments_lexer": "ipython3",
   "version": "3.12.7"
  }
 },
 "nbformat": 4,
 "nbformat_minor": 2
}
